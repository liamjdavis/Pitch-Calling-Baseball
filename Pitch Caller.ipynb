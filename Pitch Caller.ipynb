{
 "cells": [
  {
   "cell_type": "code",
   "execution_count": null,
   "metadata": {},
   "outputs": [],
   "source": [
    "import numpy as np\n",
    "import pandas as pd\n",
    "\n",
    "# initialize list of all pitches\n",
    "df = pd.read_csv('cleanedPitches.csv')\n",
    "pitchList = df['pitch_type'].tolist()\n",
    "\n",
    "# initialize count lists\n",
    "ballList = df['b_count'].tolist()\n",
    "strikeList = df['s_count'].tolist()\n",
    "\n",
    "# initialize pitch types\n",
    "pitchTypes = []\n",
    "numStates = len(pitchTypes)\n",
    "\n",
    "# initialize matrices\n",
    "emissionMatrix = np.zeros((20, numStates), dtype=int)\n",
    "transitionMatrix = np.zeros((numStates, numStates))\n",
    "\n",
    "# add pitches that are in arsenal\n",
    "necessaryPitches = []\n",
    "\n",
    "for i in range (len(pitchList)):\n",
    "    if (pitchList[i] in pitchTypes):\n",
    "        necessaryPitches.append(pitchList[i])"
   ]
  },
  {
   "attachments": {},
   "cell_type": "markdown",
   "metadata": {},
   "source": [
    "The transition matrix will hold the probabilities of transitioning between different pitches. The dataset of all pitches thrown in the 2019 MLB season will be used."
   ]
  },
  {
   "cell_type": "code",
   "execution_count": null,
   "metadata": {},
   "outputs": [],
   "source": [
    "def createTransitionMatrix(pitchTypes):\n",
    "    # initialize transition matrix\n",
    "    transitionMatrix_counts = np.zeros((numStates, numStates))\n",
    "    \n",
    "    # append to matrix\n",
    "    for i in range(len(necessaryPitches) - 1):\n",
    "        currentState = necessaryPitches[i]\n",
    "        nextState = necessaryPitches[i + 1]\n",
    "        transitionMatrix_counts[pitchTypes.index(currentState)][pitchTypes.index(nextState)] += 1\n",
    "\n",
    "    # change counts to percentages\n",
    "    transition_rowSums = transitionMatrix_counts.sum(axis=1)\n",
    "    transitionMatrix = transitionMatrix_counts / transition_rowSums[:, np.newaxis]"
   ]
  },
  {
   "attachments": {},
   "cell_type": "markdown",
   "metadata": {},
   "source": [
    "Emission Matrix for count"
   ]
  },
  {
   "cell_type": "code",
   "execution_count": null,
   "metadata": {},
   "outputs": [],
   "source": [
    "def emissionMatrix(pitchTypes):\n",
    "    numStates = len(pitchTypes)\n",
    "\n",
    "    # list for possible counts (balls * 4 + strikes)\n",
    "    possibleCounts = [0, 1, 2, 3, 4, 5, 6, 7, 8, 9, 10, 11, 12, 13, 14, 15, 16, 17, 18, 19]\n",
    "\n",
    "    # initialize and fill 2x2 count matrix with pitch thrown\n",
    "    countMatrix = np.zeros((20, numStates), dtype=int)\n",
    "\n",
    "    for i in range(len(necessaryPitches) - 1):\n",
    "        currBalls = ballList[i]\n",
    "        currStrikes = strikeList[i]\n",
    "\n",
    "        currCount = (currBalls * 4) + currStrikes\n",
    "\n",
    "        pitchThrown = necessaryPitches[i]\n",
    "        countMatrix[possibleCounts.index(currCount), pitchTypes.index(pitchThrown)] += 1\n",
    "\n",
    "    # change counted data to percentages\n",
    "    emission_rowSums = countMatrix.sum(axis=1)\n",
    "    emissionMatrix = countMatrix / emission_rowSums[:, np.newaxis]"
   ]
  },
  {
   "attachments": {},
   "cell_type": "markdown",
   "metadata": {},
   "source": [
    "The viterbi algorithm is then used."
   ]
  },
  {
   "cell_type": "code",
   "execution_count": null,
   "metadata": {},
   "outputs": [],
   "source": []
  },
  {
   "cell_type": "code",
   "execution_count": null,
   "metadata": {},
   "outputs": [],
   "source": []
  }
 ],
 "metadata": {
  "kernelspec": {
   "display_name": "Python 3",
   "language": "python",
   "name": "python3"
  },
  "language_info": {
   "codemirror_mode": {
    "name": "ipython",
    "version": 3
   },
   "file_extension": ".py",
   "mimetype": "text/x-python",
   "name": "python",
   "nbconvert_exporter": "python",
   "pygments_lexer": "ipython3",
   "version": "3.11.3"
  },
  "orig_nbformat": 4,
  "vscode": {
   "interpreter": {
    "hash": "cbc2f38758941db632f81f566dfeb343566d98da9ca08d32a1940ead31f453e9"
   }
  }
 },
 "nbformat": 4,
 "nbformat_minor": 2
}
