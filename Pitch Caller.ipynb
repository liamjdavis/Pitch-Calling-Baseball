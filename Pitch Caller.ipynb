{
 "cells": [
  {
   "cell_type": "code",
   "execution_count": null,
   "metadata": {},
   "outputs": [],
   "source": [
    "import numpy as np\n",
    "import pandas as pd\n",
    "\n",
    "# initialize list of all pitches\n",
    "df = pd.read_csv('cleanedPitches.csv')\n",
    "pitchList = df['pitch_type'].tolist()\n",
    "\n",
    "# initialize count lists\n",
    "ballList = df['b_count'].tolist()\n",
    "strikeList = df['s_count'].tolist()\n",
    "\n",
    "# initialize pitch types\n",
    "pitchTypes = []\n",
    "numStates = len(pitchTypes)\n",
    "\n",
    "# initialize matrices \n",
    "emissionMatrix = np.zeros((20, numStates), dtype=int)\n",
    "transitionMatrix = np.zeros((numStates, numStates))\n",
    "\n",
    "# initialize probabilities\n",
    "startProb = np.array(numStates)\n",
    "transitionProb = None\n",
    "emissionProb = None\n",
    "\n",
    "# add pitches that are in arsenal\n",
    "necessaryPitches = []\n",
    "\n",
    "for i in range (len(pitchList)):\n",
    "    if (pitchList[i] in pitchTypes):\n",
    "        necessaryPitches.append(pitchList[i])"
   ]
  },
  {
   "cell_type": "markdown",
   "metadata": {},
   "source": [
    "The observation sequence is inputed manually."
   ]
  },
  {
   "cell_type": "code",
   "execution_count": null,
   "metadata": {},
   "outputs": [],
   "source": [
    "obsSequence = []"
   ]
  },
  {
   "attachments": {},
   "cell_type": "markdown",
   "metadata": {},
   "source": [
    "The transition matrix will hold the probabilities of transitioning between different pitches. The dataset of all pitches thrown in the 2019 MLB season will be used."
   ]
  },
  {
   "cell_type": "code",
   "execution_count": null,
   "metadata": {},
   "outputs": [],
   "source": [
    "def createTransitionMatrix(pitchTypes):\n",
    "    # initialize transition matrix\n",
    "    transitionMatrix_counts = np.zeros((numStates, numStates))\n",
    "    \n",
    "    # append to matrix\n",
    "    for i in range(len(necessaryPitches) - 1):\n",
    "        currentState = necessaryPitches[i]\n",
    "        nextState = necessaryPitches[i + 1]\n",
    "        transitionMatrix_counts[pitchTypes.index(currentState)][pitchTypes.index(nextState)] += 1\n",
    "\n",
    "    # change counts to percentages\n",
    "    transition_rowSums = transitionMatrix_counts.sum(axis=1)\n",
    "    transitionMatrix = transitionMatrix_counts / transition_rowSums[:, np.newaxis]"
   ]
  },
  {
   "attachments": {},
   "cell_type": "markdown",
   "metadata": {},
   "source": [
    "Emission Matrix for count"
   ]
  },
  {
   "cell_type": "code",
   "execution_count": null,
   "metadata": {},
   "outputs": [],
   "source": [
    "def createEmissionMatrix(pitchTypes):\n",
    "    numStates = len(pitchTypes)\n",
    "\n",
    "    # list for possible counts (balls * 4 + strikes)\n",
    "    possibleCounts = [0, 1, 2, 3, 4, 5, 6, 7, 8, 9, 10, 11, 12, 13, 14, 15, 16, 17, 18, 19]\n",
    "\n",
    "    # initialize and fill 2x2 count matrix with pitch thrown\n",
    "    countMatrix = np.zeros((20, numStates), dtype=int)\n",
    "\n",
    "    for i in range(len(necessaryPitches) - 1):\n",
    "        currBalls = ballList[i]\n",
    "        currStrikes = strikeList[i]\n",
    "\n",
    "        currCount = (currBalls * 4) + currStrikes\n",
    "\n",
    "        pitchThrown = necessaryPitches[i]\n",
    "        countMatrix[possibleCounts.index(currCount), pitchTypes.index(pitchThrown)] += 1\n",
    "\n",
    "    # change counted data to percentages\n",
    "    emission_rowSums = countMatrix.sum(axis=1)\n",
    "    emissionMatrix = countMatrix / emission_rowSums[:, np.newaxis]"
   ]
  },
  {
   "cell_type": "code",
   "execution_count": null,
   "metadata": {},
   "outputs": [],
   "source": [
    "def calculateProbabilities():\n",
    "    # start probabilities assume every pitch is used equally\n",
    "    for i in range(numStates):\n",
    "        startProb[i] = 1/numStates\n",
    "\n",
    "    # calculate transition probabilities\n",
    "    transitionProb = transitionMatrix / np.sum(transitionMatrix, axis=1, keepdims=True)\n",
    "\n",
    "    # calculate emission probabilities\n",
    "    emissionProb = emissionMatrix / np.sum(emissionMatrix, axis=1, keepdims=True)"
   ]
  },
  {
   "attachments": {},
   "cell_type": "markdown",
   "metadata": {},
   "source": [
    "The viterbi algorithm then determines the next pitch"
   ]
  },
  {
   "cell_type": "code",
   "execution_count": null,
   "metadata": {},
   "outputs": [],
   "source": [
    "def viterbi():\n",
    "    time = len(obsSequence)\n",
    "\n",
    "    # initialize viterbi matrix\n",
    "    vitMatrix = np.zeros((time, numStates))\n",
    "\n",
    "    # initialize backpointer matrix\n",
    "    backpointers = np.zeros((time, numStates), dtype=int)\n",
    "\n",
    "    # initialize first column of viterbi matrix\n",
    "    vitMatrix[:,0] = startProb * emissionProb[:, obsSequence[0]]\n",
    "\n",
    "    for i in range (1, time):\n",
    "        for j in range (numStates):\n",
    "            # calculate max probability and corresponding state\n",
    "            maxProb = vitMatrix[:, i-1] * transitionProb[:, j] * emissionProb[j, obsSequence[i]]\n",
    "            maxState = np.argmax(maxProb)\n",
    "\n",
    "            # update backpointers and viterbi matrix\n",
    "            vitMatrix[i, j] = maxProb[maxState]\n",
    "            backpointers[i, j] = maxState\n",
    "    \n",
    "    # update best path through backtracking\n",
    "    bestPath_prob = np.max(vitMatrix[:, time - 1])\n",
    "    bestPath = [np.argmax(0, backpointers[bestPath[0], time])]\n",
    "\n",
    "    for i in range(time - 1, 0, -1):\n",
    "        bestPath.insert(0, backpointers[bestPath[0], i])"
   ]
  },
  {
   "cell_type": "code",
   "execution_count": null,
   "metadata": {},
   "outputs": [],
   "source": [
    "def main():\n",
    "    createTransitionMatrix\n",
    "    createEmissionMatrix\n",
    "    calculateProbabilities\n",
    "    viterbi"
   ]
  }
 ],
 "metadata": {
  "kernelspec": {
   "display_name": "Python 3",
   "language": "python",
   "name": "python3"
  },
  "language_info": {
   "codemirror_mode": {
    "name": "ipython",
    "version": 3
   },
   "file_extension": ".py",
   "mimetype": "text/x-python",
   "name": "python",
   "nbconvert_exporter": "python",
   "pygments_lexer": "ipython3",
   "version": "3.10.11"
  },
  "orig_nbformat": 4,
  "vscode": {
   "interpreter": {
    "hash": "cbc2f38758941db632f81f566dfeb343566d98da9ca08d32a1940ead31f453e9"
   }
  }
 },
 "nbformat": 4,
 "nbformat_minor": 2
}
