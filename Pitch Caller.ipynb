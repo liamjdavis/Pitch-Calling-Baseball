{
 "cells": [
  {
   "cell_type": "markdown",
   "metadata": {},
   "source": [
    "Prior to use, the list \"pitchTypes\" must be filled with the pitcher's arsenal. Two-letter labels for each pitch must be used and can be found at https://www.mlb.com/glossary/pitch-types. The index in the list of each pitch will be the integer that corresponds to the pitch. "
   ]
  },
  {
   "cell_type": "code",
   "execution_count": 26,
   "metadata": {},
   "outputs": [],
   "source": [
    "import numpy as np\n",
    "import pandas as pd\n",
    "\n",
    "# initialize list of all pitches\n",
    "df = pd.read_csv('cleanedPitches.csv')\n",
    "pitchList = df['pitch_type'].tolist()\n",
    "\n",
    "# initialize count lists\n",
    "ballList = df['b_count'].tolist()\n",
    "strikeList = df['s_count'].tolist()\n",
    "\n",
    "# initialize pitch types\n",
    "pitchTypes = []\n",
    "numStates = len(pitchTypes)\n",
    "\n",
    "# initialize matrices \n",
    "emissionMatrix = np.zeros((20, numStates), dtype=int)\n",
    "transitionMatrix = np.zeros((numStates, numStates))\n",
    "\n",
    "# initialize probabilities\n",
    "startProb = np.array(numStates)\n",
    "transitionProb = None\n",
    "emissionProb = None\n",
    "\n",
    "# add pitches that are in arsenal\n",
    "necessaryPitches = []\n",
    "\n",
    "for i in range (len(pitchList)):\n",
    "    if (pitchList[i] in pitchTypes):\n",
    "        necessaryPitches.append(pitchList[i])"
   ]
  },
  {
   "cell_type": "markdown",
   "metadata": {},
   "source": [
    "The observation sequence is inputed manually during the game. Each value holds the integer that corresponds to the specific pitch or state."
   ]
  },
  {
   "cell_type": "code",
   "execution_count": 27,
   "metadata": {},
   "outputs": [],
   "source": [
    "obsSequence = []"
   ]
  },
  {
   "attachments": {},
   "cell_type": "markdown",
   "metadata": {},
   "source": [
    "The transition matrix will hold the probabilities of transitioning between different pitches. The dataset of all pitches thrown in the 2019 MLB season will be used."
   ]
  },
  {
   "cell_type": "code",
   "execution_count": 28,
   "metadata": {},
   "outputs": [],
   "source": [
    "# initialize transition matrix\n",
    "transitionMatrix_counts = np.zeros((numStates, numStates))\n",
    "\n",
    "# append to matrix\n",
    "for i in range(len(necessaryPitches) - 1):\n",
    "    currentState = necessaryPitches[i]\n",
    "    nextState = necessaryPitches[i + 1]\n",
    "    transitionMatrix_counts[pitchTypes.index(currentState)][pitchTypes.index(nextState)] += 1\n",
    "\n",
    "# change counts to percentages\n",
    "transition_rowSums = transitionMatrix_counts.sum(axis=1)\n",
    "transitionMatrix = transitionMatrix_counts / transition_rowSums[:, np.newaxis]"
   ]
  },
  {
   "attachments": {},
   "cell_type": "markdown",
   "metadata": {},
   "source": [
    "Emission Matrix will be used with count being the cue that corresponds to the state."
   ]
  },
  {
   "cell_type": "code",
   "execution_count": 29,
   "metadata": {},
   "outputs": [],
   "source": [
    "numStates = len(pitchTypes)\n",
    "\n",
    "# list for possible counts (balls * 4 + strikes)\n",
    "possibleCounts = [0, 1, 2, 3, 4, 5, 6, 7, 8, 9, 10, 11, 12, 13, 14, 15, 16, 17, 18, 19]\n",
    "\n",
    "# initialize and fill 2x2 count matrix with pitch thrown\n",
    "countMatrix = np.zeros((20, numStates), dtype=int)\n",
    "\n",
    "for i in range(len(necessaryPitches) - 1):\n",
    "    currBalls = ballList[i]\n",
    "    currStrikes = strikeList[i]\n",
    "\n",
    "    currCount = (currBalls * 4) + currStrikes\n",
    "\n",
    "    pitchThrown = necessaryPitches[i]\n",
    "    countMatrix[possibleCounts.index(currCount), pitchTypes.index(pitchThrown)] += 1\n",
    "\n",
    "# change counted data to percentages\n",
    "emission_rowSums = countMatrix.sum(axis=1)\n",
    "emissionMatrix = countMatrix / emission_rowSums[:, np.newaxis]"
   ]
  },
  {
   "cell_type": "markdown",
   "metadata": {},
   "source": [
    "It is assumed that to start, each pitch is thrown equally."
   ]
  },
  {
   "cell_type": "code",
   "execution_count": 30,
   "metadata": {},
   "outputs": [],
   "source": [
    "# start probabilities assume every pitch is used equally\n",
    "for i in range(numStates):\n",
    "    startProb[i] = 1/numStates\n",
    "\n",
    "# calculate transition probabilities\n",
    "transitionProb = transitionMatrix / np.sum(transitionMatrix, axis=1, keepdims=True)\n",
    "\n",
    "# calculate emission probabilities\n",
    "emissionProb = emissionMatrix / np.sum(emissionMatrix, axis=1, keepdims=True)"
   ]
  },
  {
   "attachments": {},
   "cell_type": "markdown",
   "metadata": {},
   "source": [
    "The viterbi algorithm is used to determine what pitch should be thrown."
   ]
  },
  {
   "cell_type": "code",
   "execution_count": 31,
   "metadata": {},
   "outputs": [
    {
     "ename": "IndexError",
     "evalue": "index 0 is out of bounds for axis 1 with size 0",
     "output_type": "error",
     "traceback": [
      "\u001b[1;31m---------------------------------------------------------------------------\u001b[0m",
      "\u001b[1;31mIndexError\u001b[0m                                Traceback (most recent call last)",
      "\u001b[1;32mc:\\Users\\davis\\VSCodeProjects\\Pitch-Calling-Baseball\\Pitch Caller.ipynb Cell 10\u001b[0m in \u001b[0;36m<cell line: 10>\u001b[1;34m()\u001b[0m\n\u001b[0;32m      <a href='vscode-notebook-cell:/c%3A/Users/davis/VSCodeProjects/Pitch-Calling-Baseball/Pitch%20Caller.ipynb#X12sZmlsZQ%3D%3D?line=6'>7</a>\u001b[0m backpointers \u001b[39m=\u001b[39m np\u001b[39m.\u001b[39mzeros((time, numStates), dtype\u001b[39m=\u001b[39m\u001b[39mint\u001b[39m)\n\u001b[0;32m      <a href='vscode-notebook-cell:/c%3A/Users/davis/VSCodeProjects/Pitch-Calling-Baseball/Pitch%20Caller.ipynb#X12sZmlsZQ%3D%3D?line=8'>9</a>\u001b[0m \u001b[39m# initialize first column of viterbi matrix\u001b[39;00m\n\u001b[1;32m---> <a href='vscode-notebook-cell:/c%3A/Users/davis/VSCodeProjects/Pitch-Calling-Baseball/Pitch%20Caller.ipynb#X12sZmlsZQ%3D%3D?line=9'>10</a>\u001b[0m vitMatrix[:, \u001b[39m0\u001b[39m] \u001b[39m=\u001b[39m startProb \u001b[39m*\u001b[39m emissionProb[:, obsSequence[\u001b[39m0\u001b[39;49m]]\n\u001b[0;32m     <a href='vscode-notebook-cell:/c%3A/Users/davis/VSCodeProjects/Pitch-Calling-Baseball/Pitch%20Caller.ipynb#X12sZmlsZQ%3D%3D?line=11'>12</a>\u001b[0m \u001b[39mfor\u001b[39;00m i \u001b[39min\u001b[39;00m \u001b[39mrange\u001b[39m (\u001b[39m1\u001b[39m, time):\n\u001b[0;32m     <a href='vscode-notebook-cell:/c%3A/Users/davis/VSCodeProjects/Pitch-Calling-Baseball/Pitch%20Caller.ipynb#X12sZmlsZQ%3D%3D?line=12'>13</a>\u001b[0m     \u001b[39mfor\u001b[39;00m j \u001b[39min\u001b[39;00m \u001b[39mrange\u001b[39m (numStates):\n\u001b[0;32m     <a href='vscode-notebook-cell:/c%3A/Users/davis/VSCodeProjects/Pitch-Calling-Baseball/Pitch%20Caller.ipynb#X12sZmlsZQ%3D%3D?line=13'>14</a>\u001b[0m         \u001b[39m# calculate max probability and corresponding state\u001b[39;00m\n",
      "\u001b[1;31mIndexError\u001b[0m: index 0 is out of bounds for axis 1 with size 0"
     ]
    }
   ],
   "source": [
    "time = len(obsSequence)\n",
    "\n",
    "# initialize viterbi matrix\n",
    "vitMatrix = np.zeros((time, numStates))\n",
    "\n",
    "# initialize backpointer matrix\n",
    "backpointers = np.zeros((time, numStates), dtype=int)\n",
    "\n",
    "# initialize first column of viterbi matrix\n",
    "vitMatrix[:, 0] = startProb * emissionProb[:, obsSequence[0]]\n",
    "\n",
    "for i in range (1, time):\n",
    "    for j in range (numStates):\n",
    "        # calculate max probability and corresponding state\n",
    "        maxProb = vitMatrix[:, i-1] * transitionProb[:, j] * emissionProb[j, obsSequence[i]]\n",
    "        maxState = np.argmax(maxProb)\n",
    "\n",
    "        # update backpointers and viterbi matrix\n",
    "        vitMatrix[i, j] = maxProb[maxState]\n",
    "        backpointers[i, j] = maxState\n",
    "\n",
    "# update best path through backtracking\n",
    "bestPath_prob = np.max(vitMatrix[:, time - 1])\n",
    "bestPath = [np.argmax(0, backpointers[vitMatrix[0], time])]\n",
    "\n",
    "for i in range(time - 1, 0, -1):\n",
    "    bestPath.insert(0, backpointers[bestPath[0], i])\n",
    "\n",
    "print(bestPath)"
   ]
  }
 ],
 "metadata": {
  "kernelspec": {
   "display_name": "Python 3",
   "language": "python",
   "name": "python3"
  },
  "language_info": {
   "codemirror_mode": {
    "name": "ipython",
    "version": 3
   },
   "file_extension": ".py",
   "mimetype": "text/x-python",
   "name": "python",
   "nbconvert_exporter": "python",
   "pygments_lexer": "ipython3",
   "version": "3.10.11"
  },
  "orig_nbformat": 4,
  "vscode": {
   "interpreter": {
    "hash": "cbc2f38758941db632f81f566dfeb343566d98da9ca08d32a1940ead31f453e9"
   }
  }
 },
 "nbformat": 4,
 "nbformat_minor": 2
}
